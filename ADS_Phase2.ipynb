{
  "nbformat": 4,
  "nbformat_minor": 0,
  "metadata": {
    "colab": {
      "provenance": []
    },
    "kernelspec": {
      "name": "python3",
      "display_name": "Python 3"
    },
    "language_info": {
      "name": "python"
    }
  },
  "cells": [
    {
      "cell_type": "code",
      "execution_count": null,
      "metadata": {
        "id": "5klDZpHKGUlJ"
      },
      "outputs": [],
      "source": [
        "from google.colab import files\n",
        "files.upload()"
      ]
    },
    {
      "cell_type": "code",
      "source": [
        "import pandas as pd\n",
        "import numpy as np\n",
        "from sklearn.model_selection import train_test_split\n",
        "from sklearn.linear_model import LinearRegression\n",
        "from sklearn.metrics import mean_squared_error, mean_absolute_error, r2_score\n",
        "import matplotlib.pyplot as plt"
      ],
      "metadata": {
        "id": "Vo3qbQM3IHRd"
      },
      "execution_count": 5,
      "outputs": []
    },
    {
      "cell_type": "code",
      "source": [
        "#Load the Dataset\n",
        "data = pd.read_csv('Sales.csv')"
      ],
      "metadata": {
        "id": "62mo1E-5IHMc"
      },
      "execution_count": 6,
      "outputs": []
    },
    {
      "cell_type": "code",
      "source": [
        "print(data.head())"
      ],
      "metadata": {
        "id": "qUevST9uIHJU"
      },
      "execution_count": null,
      "outputs": []
    },
    {
      "cell_type": "code",
      "source": [
        "print(data.describe())"
      ],
      "metadata": {
        "id": "HjzVsJXqIHGj"
      },
      "execution_count": null,
      "outputs": []
    },
    {
      "cell_type": "code",
      "source": [
        "X = data[['TV', 'Radio', 'Newspaper']]\n",
        "y = data['Sales']\n",
        "\n",
        "X_train, X_test, y_train, y_test = train_test_split(X, y, test_size=0.2, random_state=42)"
      ],
      "metadata": {
        "id": "X-5TGRgBIHDk"
      },
      "execution_count": 9,
      "outputs": []
    },
    {
      "cell_type": "code",
      "source": [
        "model = LinearRegression()\n",
        "model.fit(X_train, y_train)"
      ],
      "metadata": {
        "id": "GpxG_6NfIkA0"
      },
      "execution_count": null,
      "outputs": []
    },
    {
      "cell_type": "code",
      "source": [
        "y_pred = model.predict(X_test)"
      ],
      "metadata": {
        "id": "oQdD7WG5Iorz"
      },
      "execution_count": 11,
      "outputs": []
    },
    {
      "cell_type": "code",
      "source": [
        "# Calculate metrics to evaluate the model's performance\n",
        "mse = mean_squared_error(y_test, y_pred)\n",
        "rmse = np.sqrt(mse)\n",
        "mae = mean_absolute_error(y_test, y_pred)\n",
        "r2 = r2_score(y_test, y_pred)"
      ],
      "metadata": {
        "id": "gywFu3B4Iqek"
      },
      "execution_count": 12,
      "outputs": []
    },
    {
      "cell_type": "code",
      "source": [
        "print(f\"Root Mean Squared Error (RMSE): {rmse}\")\n",
        "print(f\"Mean Absolute Error (MAE): {mae}\")\n",
        "print(f\"R-squared (R2): {r2}\")"
      ],
      "metadata": {
        "id": "SOXs9ocKIqcD"
      },
      "execution_count": null,
      "outputs": []
    },
    {
      "cell_type": "code",
      "source": [
        "# Visualize the predictions\n",
        "plt.scatter(X_test['TV'], y_test, label='Actual Sales')\n",
        "plt.scatter(X_test['TV'], y_pred, label='Predicted Sales', color='red')\n",
        "plt.xlabel('TV Advertising Spending')\n",
        "plt.ylabel('Sales')\n",
        "plt.legend()\n",
        "plt.title('Future Sales Prediction')\n",
        "plt.show()"
      ],
      "metadata": {
        "id": "jmBa97wdIqZD"
      },
      "execution_count": null,
      "outputs": []
    },
    {
      "cell_type": "markdown",
      "source": [
        "#Using Facebook Prophet"
      ],
      "metadata": {
        "id": "QjR1orRD-qYs"
      }
    },
    {
      "cell_type": "code",
      "source": [
        "import pandas as pd\n",
        "import numpy as np\n",
        "import matplotlib.pyplot as plt\n",
        "from fbprophet import Prophet\n",
        "\n",
        "# Load the dataset\n",
        "data = pd.read_csv('Sales.csv')\n",
        "data['Date'] = pd.to_datetime(data['Date'])\n",
        "\n",
        "# Prepare the data for Prophet\n",
        "df = data[['Date', 'Sales']]\n",
        "df = df.rename(columns={'Date': 'ds', 'Sales': 'y'})\n",
        "\n",
        "# Initialize and fit the Prophet model\n",
        "model = Prophet()\n",
        "model.fit(df)\n",
        "\n",
        "# Create a future dataframe for forecasting\n",
        "future = model.make_future_dataframe(periods=365)  # Adjust the number of future periods as needed\n",
        "\n",
        "# Make predictions\n",
        "forecast = model.predict(future)\n",
        "\n",
        "# Plot the forecast\n",
        "fig = model.plot(forecast)\n",
        "plt.title('Sales Forecast with Prophet')\n",
        "plt.show()\n"
      ],
      "metadata": {
        "id": "iYXxgwkE9WHX"
      },
      "execution_count": null,
      "outputs": []
    },
    {
      "cell_type": "markdown",
      "source": [
        "#Using LSTM Networks"
      ],
      "metadata": {
        "id": "JFUjErFr_EPW"
      }
    },
    {
      "cell_type": "code",
      "source": [
        "import pandas as pd\n",
        "import numpy as np\n",
        "import torch\n",
        "import torch.nn as nn\n",
        "from sklearn.preprocessing import MinMaxScaler\n",
        "from sklearn.model_selection import train_test_split\n",
        "import matplotlib.pyplot as plt\n",
        "\n",
        "# Load the dataset\n",
        "data = pd.read_csv('Sales.csv')\n",
        "sales_data = data[['Date', 'Sales']].copy()\n",
        "sales_data['Date'] = pd.to_datetime(sales_data['Date'])\n",
        "sales_data.set_index('Date', inplace=True)\n",
        "\n",
        "# Prepare the data\n",
        "scaler = MinMaxScaler()\n",
        "sales_data['Sales'] = scaler.fit_transform(sales_data['Sales'].values.reshape(-1, 1))\n",
        "sales_data['Date'] = sales_data.index\n",
        "\n",
        "# Split data into training and testing\n",
        "train_size = int(len(sales_data) * 0.8)\n",
        "train_data, test_data = sales_data[:train_size], sales_data[train_size:]\n",
        "\n",
        "# Create sequences for LSTM\n",
        "def create_sequences(data, sequence_length):\n",
        "    sequences = []\n",
        "    for i in range(len(data) - sequence_length):\n",
        "        sequence = data[i:i+sequence_length]\n",
        "        target = data[i+sequence_length:i+sequence_length+1]\n",
        "        sequences.append((sequence, target))\n",
        "    return sequences\n",
        "\n",
        "sequence_length = 10  # Adjust as needed\n",
        "train_sequences = create_sequences(train_data['Sales'], sequence_length)\n",
        "test_sequences = create_sequences(test_data['Sales'], sequence_length)\n",
        "\n",
        "# Define an LSTM model\n",
        "class LSTMModel(nn.Module):\n",
        "    def __init__(self, input_size, hidden_size, num_layers, output_size):\n",
        "        super(LSTMModel, self).__init()\n",
        "        self.lstm = nn.LSTM(input_size, hidden_size, num_layers, batch_first=True)\n",
        "        self.fc = nn.Linear(hidden_size, output_size)\n",
        "\n",
        "    def forward(self, x):\n",
        "        out, _ = self.lstm(x)\n",
        "        out = self.fc(out[:, -1, :])\n",
        "        return out\n",
        "\n",
        "# Training the LSTM model\n",
        "input_size = 1\n",
        "hidden_size = 64\n",
        "num_layers = 2\n",
        "output_size = 1\n",
        "\n",
        "model = LSTMModel(input_size, hidden_size, num_layers, output_size)\n",
        "criterion = nn.MSELoss()\n",
        "optimizer = torch.optim.Adam(model.parameters(), lr=0.001)\n",
        "\n",
        "train_loader = torch.utils.data.DataLoader(train_sequences, batch_size=64, shuffle=True)\n",
        "\n",
        "num_epochs = 100\n",
        "\n",
        "for epoch in range(num_epochs):\n",
        "    for sequence, target in train_loader:\n",
        "        optimizer.zero_grad()\n",
        "        sequence = sequence.view(-1, sequence_length, 1)\n",
        "        outputs = model(sequence)\n",
        "        loss = criterion(outputs, target)\n",
        "        loss.backward()\n",
        "        optimizer.step()\n",
        "\n",
        "# Make predictions on the test set\n",
        "test_loader = torch.utils.data.DataLoader(test_sequences, batch_size=1, shuffle=False)\n",
        "predictions = []\n",
        "\n",
        "model.eval()\n",
        "with torch.no_grad():\n",
        "    for sequence, _ in test_loader:\n",
        "        sequence = sequence.view(-1, sequence_length, 1)\n",
        "        prediction = model(sequence)\n",
        "        predictions.append(prediction.item())\n",
        "\n",
        "# Inverse scaling for predictions\n",
        "predicted_sales = scaler.inverse_transform(np.array(predictions).reshape(-1, 1))\n",
        "\n",
        "# Plot the predictions\n",
        "plt.plot(test_data.index[sequence_length:], test_data['Sales'].values[sequence_length:], label='Actual Sales')\n",
        "plt.plot(test_data.index[sequence_length:], predicted_sales, label='Predicted Sales', color='red')\n",
        "plt.xlabel('Date')\n",
        "plt.ylabel('Sales')\n",
        "plt.legend()\n",
        "plt.title('Sales Forecast with LSTM')\n",
        "plt.show()\n"
      ],
      "metadata": {
        "id": "i5wsMJ-E-cCb"
      },
      "execution_count": null,
      "outputs": []
    }
  ]
}