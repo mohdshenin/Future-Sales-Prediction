{
  "nbformat": 4,
  "nbformat_minor": 0,
  "metadata": {
    "colab": {
      "provenance": []
    },
    "kernelspec": {
      "name": "python3",
      "display_name": "Python 3"
    },
    "language_info": {
      "name": "python"
    }
  },
  "cells": [
    {
      "cell_type": "code",
      "execution_count": 1,
      "metadata": {
        "colab": {
          "base_uri": "https://localhost:8080/",
          "height": 128
        },
        "id": "hsN_5UlNCISl",
        "outputId": "43b2df86-7760-4653-d0e5-5c245e595d95"
      },
      "outputs": [
        {
          "output_type": "display_data",
          "data": {
            "text/plain": [
              "<IPython.core.display.HTML object>"
            ],
            "text/html": [
              "\n",
              "     <input type=\"file\" id=\"files-c7f8d10c-6360-4bd4-aec2-0e1d1e61ec32\" name=\"files[]\" multiple disabled\n",
              "        style=\"border:none\" />\n",
              "     <output id=\"result-c7f8d10c-6360-4bd4-aec2-0e1d1e61ec32\">\n",
              "      Upload widget is only available when the cell has been executed in the\n",
              "      current browser session. Please rerun this cell to enable.\n",
              "      </output>\n",
              "      <script>// Copyright 2017 Google LLC\n",
              "//\n",
              "// Licensed under the Apache License, Version 2.0 (the \"License\");\n",
              "// you may not use this file except in compliance with the License.\n",
              "// You may obtain a copy of the License at\n",
              "//\n",
              "//      http://www.apache.org/licenses/LICENSE-2.0\n",
              "//\n",
              "// Unless required by applicable law or agreed to in writing, software\n",
              "// distributed under the License is distributed on an \"AS IS\" BASIS,\n",
              "// WITHOUT WARRANTIES OR CONDITIONS OF ANY KIND, either express or implied.\n",
              "// See the License for the specific language governing permissions and\n",
              "// limitations under the License.\n",
              "\n",
              "/**\n",
              " * @fileoverview Helpers for google.colab Python module.\n",
              " */\n",
              "(function(scope) {\n",
              "function span(text, styleAttributes = {}) {\n",
              "  const element = document.createElement('span');\n",
              "  element.textContent = text;\n",
              "  for (const key of Object.keys(styleAttributes)) {\n",
              "    element.style[key] = styleAttributes[key];\n",
              "  }\n",
              "  return element;\n",
              "}\n",
              "\n",
              "// Max number of bytes which will be uploaded at a time.\n",
              "const MAX_PAYLOAD_SIZE = 100 * 1024;\n",
              "\n",
              "function _uploadFiles(inputId, outputId) {\n",
              "  const steps = uploadFilesStep(inputId, outputId);\n",
              "  const outputElement = document.getElementById(outputId);\n",
              "  // Cache steps on the outputElement to make it available for the next call\n",
              "  // to uploadFilesContinue from Python.\n",
              "  outputElement.steps = steps;\n",
              "\n",
              "  return _uploadFilesContinue(outputId);\n",
              "}\n",
              "\n",
              "// This is roughly an async generator (not supported in the browser yet),\n",
              "// where there are multiple asynchronous steps and the Python side is going\n",
              "// to poll for completion of each step.\n",
              "// This uses a Promise to block the python side on completion of each step,\n",
              "// then passes the result of the previous step as the input to the next step.\n",
              "function _uploadFilesContinue(outputId) {\n",
              "  const outputElement = document.getElementById(outputId);\n",
              "  const steps = outputElement.steps;\n",
              "\n",
              "  const next = steps.next(outputElement.lastPromiseValue);\n",
              "  return Promise.resolve(next.value.promise).then((value) => {\n",
              "    // Cache the last promise value to make it available to the next\n",
              "    // step of the generator.\n",
              "    outputElement.lastPromiseValue = value;\n",
              "    return next.value.response;\n",
              "  });\n",
              "}\n",
              "\n",
              "/**\n",
              " * Generator function which is called between each async step of the upload\n",
              " * process.\n",
              " * @param {string} inputId Element ID of the input file picker element.\n",
              " * @param {string} outputId Element ID of the output display.\n",
              " * @return {!Iterable<!Object>} Iterable of next steps.\n",
              " */\n",
              "function* uploadFilesStep(inputId, outputId) {\n",
              "  const inputElement = document.getElementById(inputId);\n",
              "  inputElement.disabled = false;\n",
              "\n",
              "  const outputElement = document.getElementById(outputId);\n",
              "  outputElement.innerHTML = '';\n",
              "\n",
              "  const pickedPromise = new Promise((resolve) => {\n",
              "    inputElement.addEventListener('change', (e) => {\n",
              "      resolve(e.target.files);\n",
              "    });\n",
              "  });\n",
              "\n",
              "  const cancel = document.createElement('button');\n",
              "  inputElement.parentElement.appendChild(cancel);\n",
              "  cancel.textContent = 'Cancel upload';\n",
              "  const cancelPromise = new Promise((resolve) => {\n",
              "    cancel.onclick = () => {\n",
              "      resolve(null);\n",
              "    };\n",
              "  });\n",
              "\n",
              "  // Wait for the user to pick the files.\n",
              "  const files = yield {\n",
              "    promise: Promise.race([pickedPromise, cancelPromise]),\n",
              "    response: {\n",
              "      action: 'starting',\n",
              "    }\n",
              "  };\n",
              "\n",
              "  cancel.remove();\n",
              "\n",
              "  // Disable the input element since further picks are not allowed.\n",
              "  inputElement.disabled = true;\n",
              "\n",
              "  if (!files) {\n",
              "    return {\n",
              "      response: {\n",
              "        action: 'complete',\n",
              "      }\n",
              "    };\n",
              "  }\n",
              "\n",
              "  for (const file of files) {\n",
              "    const li = document.createElement('li');\n",
              "    li.append(span(file.name, {fontWeight: 'bold'}));\n",
              "    li.append(span(\n",
              "        `(${file.type || 'n/a'}) - ${file.size} bytes, ` +\n",
              "        `last modified: ${\n",
              "            file.lastModifiedDate ? file.lastModifiedDate.toLocaleDateString() :\n",
              "                                    'n/a'} - `));\n",
              "    const percent = span('0% done');\n",
              "    li.appendChild(percent);\n",
              "\n",
              "    outputElement.appendChild(li);\n",
              "\n",
              "    const fileDataPromise = new Promise((resolve) => {\n",
              "      const reader = new FileReader();\n",
              "      reader.onload = (e) => {\n",
              "        resolve(e.target.result);\n",
              "      };\n",
              "      reader.readAsArrayBuffer(file);\n",
              "    });\n",
              "    // Wait for the data to be ready.\n",
              "    let fileData = yield {\n",
              "      promise: fileDataPromise,\n",
              "      response: {\n",
              "        action: 'continue',\n",
              "      }\n",
              "    };\n",
              "\n",
              "    // Use a chunked sending to avoid message size limits. See b/62115660.\n",
              "    let position = 0;\n",
              "    do {\n",
              "      const length = Math.min(fileData.byteLength - position, MAX_PAYLOAD_SIZE);\n",
              "      const chunk = new Uint8Array(fileData, position, length);\n",
              "      position += length;\n",
              "\n",
              "      const base64 = btoa(String.fromCharCode.apply(null, chunk));\n",
              "      yield {\n",
              "        response: {\n",
              "          action: 'append',\n",
              "          file: file.name,\n",
              "          data: base64,\n",
              "        },\n",
              "      };\n",
              "\n",
              "      let percentDone = fileData.byteLength === 0 ?\n",
              "          100 :\n",
              "          Math.round((position / fileData.byteLength) * 100);\n",
              "      percent.textContent = `${percentDone}% done`;\n",
              "\n",
              "    } while (position < fileData.byteLength);\n",
              "  }\n",
              "\n",
              "  // All done.\n",
              "  yield {\n",
              "    response: {\n",
              "      action: 'complete',\n",
              "    }\n",
              "  };\n",
              "}\n",
              "\n",
              "scope.google = scope.google || {};\n",
              "scope.google.colab = scope.google.colab || {};\n",
              "scope.google.colab._files = {\n",
              "  _uploadFiles,\n",
              "  _uploadFilesContinue,\n",
              "};\n",
              "})(self);\n",
              "</script> "
            ]
          },
          "metadata": {}
        },
        {
          "output_type": "stream",
          "name": "stdout",
          "text": [
            "Saving Sales.csv to Sales.csv\n"
          ]
        },
        {
          "output_type": "execute_result",
          "data": {
            "text/plain": [
              "{'Sales.csv': b'TV,Radio,Newspaper,Sales\\r\\n230.1,37.8,69.2,22.1\\r\\n44.5,39.3,45.1,10.4\\r\\n17.2,45.9,69.3,12\\r\\n151.5,41.3,58.5,16.5\\r\\n180.8,10.8,58.4,17.9\\r\\n8.7,48.9,75,7.2\\r\\n57.5,32.8,23.5,11.8\\r\\n120.2,19.6,11.6,13.2\\r\\n8.6,2.1,1,4.8\\r\\n199.8,2.6,21.2,15.6\\r\\n66.1,5.8,24.2,12.6\\r\\n214.7,24,4,17.4\\r\\n23.8,35.1,65.9,9.2\\r\\n97.5,7.6,7.2,13.7\\r\\n204.1,32.9,46,19\\r\\n195.4,47.7,52.9,22.4\\r\\n67.8,36.6,114,12.5\\r\\n281.4,39.6,55.8,24.4\\r\\n69.2,20.5,18.3,11.3\\r\\n147.3,23.9,19.1,14.6\\r\\n218.4,27.7,53.4,18\\r\\n237.4,5.1,23.5,17.5\\r\\n13.2,15.9,49.6,5.6\\r\\n228.3,16.9,26.2,20.5\\r\\n62.3,12.6,18.3,9.7\\r\\n262.9,3.5,19.5,17\\r\\n142.9,29.3,12.6,15\\r\\n240.1,16.7,22.9,20.9\\r\\n248.8,27.1,22.9,18.9\\r\\n70.6,16,40.8,10.5\\r\\n292.9,28.3,43.2,21.4\\r\\n112.9,17.4,38.6,11.9\\r\\n97.2,1.5,30,13.2\\r\\n265.6,20,0.3,17.4\\r\\n95.7,1.4,7.4,11.9\\r\\n290.7,4.1,8.5,17.8\\r\\n266.9,43.8,5,25.4\\r\\n74.7,49.4,45.7,14.7\\r\\n43.1,26.7,35.1,10.1\\r\\n228,37.7,32,21.5\\r\\n202.5,22.3,31.6,16.6\\r\\n177,33.4,38.7,17.1\\r\\n293.6,27.7,1.8,20.7\\r\\n206.9,8.4,26.4,17.9\\r\\n25.1,25.7,43.3,8.5\\r\\n175.1,22.5,31.5,16.1\\r\\n89.7,9.9,35.7,10.6\\r\\n239.9,41.5,18.5,23.2\\r\\n227.2,15.8,49.9,19.8\\r\\n66.9,11.7,36.8,9.7\\r\\n199.8,3.1,34.6,16.4\\r\\n100.4,9.6,3.6,10.7\\r\\n216.4,41.7,39.6,22.6\\r\\n182.6,46.2,58.7,21.2\\r\\n262.7,28.8,15.9,20.2\\r\\n198.9,49.4,60,23.7\\r\\n7.3,28.1,41.4,5.5\\r\\n136.2,19.2,16.6,13.2\\r\\n210.8,49.6,37.7,23.8\\r\\n210.7,29.5,9.3,18.4\\r\\n53.5,2,21.4,8.1\\r\\n261.3,42.7,54.7,24.2\\r\\n239.3,15.5,27.3,20.7\\r\\n102.7,29.6,8.4,14\\r\\n131.1,42.8,28.9,16\\r\\n69,9.3,0.9,11.3\\r\\n31.5,24.6,2.2,11\\r\\n139.3,14.5,10.2,13.4\\r\\n237.4,27.5,11,18.9\\r\\n216.8,43.9,27.2,22.3\\r\\n199.1,30.6,38.7,18.3\\r\\n109.8,14.3,31.7,12.4\\r\\n26.8,33,19.3,8.8\\r\\n129.4,5.7,31.3,11\\r\\n213.4,24.6,13.1,17\\r\\n16.9,43.7,89.4,8.7\\r\\n27.5,1.6,20.7,6.9\\r\\n120.5,28.5,14.2,14.2\\r\\n5.4,29.9,9.4,5.3\\r\\n116,7.7,23.1,11\\r\\n76.4,26.7,22.3,11.8\\r\\n239.8,4.1,36.9,17.3\\r\\n75.3,20.3,32.5,11.3\\r\\n68.4,44.5,35.6,13.6\\r\\n213.5,43,33.8,21.7\\r\\n193.2,18.4,65.7,20.2\\r\\n76.3,27.5,16,12\\r\\n110.7,40.6,63.2,16\\r\\n88.3,25.5,73.4,12.9\\r\\n109.8,47.8,51.4,16.7\\r\\n134.3,4.9,9.3,14\\r\\n28.6,1.5,33,7.3\\r\\n217.7,33.5,59,19.4\\r\\n250.9,36.5,72.3,22.2\\r\\n107.4,14,10.9,11.5\\r\\n163.3,31.6,52.9,16.9\\r\\n197.6,3.5,5.9,16.7\\r\\n184.9,21,22,20.5\\r\\n289.7,42.3,51.2,25.4\\r\\n135.2,41.7,45.9,17.2\\r\\n222.4,4.3,49.8,16.7\\r\\n296.4,36.3,100.9,23.8\\r\\n280.2,10.1,21.4,19.8\\r\\n187.9,17.2,17.9,19.7\\r\\n238.2,34.3,5.3,20.7\\r\\n137.9,46.4,59,15\\r\\n25,11,29.7,7.2\\r\\n90.4,0.3,23.2,12\\r\\n13.1,0.4,25.6,5.3\\r\\n255.4,26.9,5.5,19.8\\r\\n225.8,8.2,56.5,18.4\\r\\n241.7,38,23.2,21.8\\r\\n175.7,15.4,2.4,17.1\\r\\n209.6,20.6,10.7,20.9\\r\\n78.2,46.8,34.5,14.6\\r\\n75.1,35,52.7,12.6\\r\\n139.2,14.3,25.6,12.2\\r\\n76.4,0.8,14.8,9.4\\r\\n125.7,36.9,79.2,15.9\\r\\n19.4,16,22.3,6.6\\r\\n141.3,26.8,46.2,15.5\\r\\n18.8,21.7,50.4,7\\r\\n224,2.4,15.6,16.6\\r\\n123.1,34.6,12.4,15.2\\r\\n229.5,32.3,74.2,19.7\\r\\n87.2,11.8,25.9,10.6\\r\\n7.8,38.9,50.6,6.6\\r\\n80.2,0,9.2,11.9\\r\\n220.3,49,3.2,24.7\\r\\n59.6,12,43.1,9.7\\r\\n0.7,39.6,8.7,1.6\\r\\n265.2,2.9,43,17.7\\r\\n8.4,27.2,2.1,5.7\\r\\n219.8,33.5,45.1,19.6\\r\\n36.9,38.6,65.6,10.8\\r\\n48.3,47,8.5,11.6\\r\\n25.6,39,9.3,9.5\\r\\n273.7,28.9,59.7,20.8\\r\\n43,25.9,20.5,9.6\\r\\n184.9,43.9,1.7,20.7\\r\\n73.4,17,12.9,10.9\\r\\n193.7,35.4,75.6,19.2\\r\\n220.5,33.2,37.9,20.1\\r\\n104.6,5.7,34.4,10.4\\r\\n96.2,14.8,38.9,12.3\\r\\n140.3,1.9,9,10.3\\r\\n240.1,7.3,8.7,18.2\\r\\n243.2,49,44.3,25.4\\r\\n38,40.3,11.9,10.9\\r\\n44.7,25.8,20.6,10.1\\r\\n280.7,13.9,37,16.1\\r\\n121,8.4,48.7,11.6\\r\\n197.6,23.3,14.2,16.6\\r\\n171.3,39.7,37.7,16\\r\\n187.8,21.1,9.5,20.6\\r\\n4.1,11.6,5.7,3.2\\r\\n93.9,43.5,50.5,15.3\\r\\n149.8,1.3,24.3,10.1\\r\\n11.7,36.9,45.2,7.3\\r\\n131.7,18.4,34.6,12.9\\r\\n172.5,18.1,30.7,16.4\\r\\n85.7,35.8,49.3,13.3\\r\\n188.4,18.1,25.6,19.9\\r\\n163.5,36.8,7.4,18\\r\\n117.2,14.7,5.4,11.9\\r\\n234.5,3.4,84.8,16.9\\r\\n17.9,37.6,21.6,8\\r\\n206.8,5.2,19.4,17.2\\r\\n215.4,23.6,57.6,17.1\\r\\n284.3,10.6,6.4,20\\r\\n50,11.6,18.4,8.4\\r\\n164.5,20.9,47.4,17.5\\r\\n19.6,20.1,17,7.6\\r\\n168.4,7.1,12.8,16.7\\r\\n222.4,3.4,13.1,16.5\\r\\n276.9,48.9,41.8,27\\r\\n248.4,30.2,20.3,20.2\\r\\n170.2,7.8,35.2,16.7\\r\\n276.7,2.3,23.7,16.8\\r\\n165.6,10,17.6,17.6\\r\\n156.6,2.6,8.3,15.5\\r\\n218.5,5.4,27.4,17.2\\r\\n56.2,5.7,29.7,8.7\\r\\n287.6,43,71.8,26.2\\r\\n253.8,21.3,30,17.6\\r\\n205,45.1,19.6,22.6\\r\\n139.5,2.1,26.6,10.3\\r\\n191.1,28.7,18.2,17.3\\r\\n286,13.9,3.7,20.9\\r\\n18.7,12.1,23.4,6.7\\r\\n39.5,41.1,5.8,10.8\\r\\n75.5,10.8,6,11.9\\r\\n17.2,4.1,31.6,5.9\\r\\n166.8,42,3.6,19.6\\r\\n149.7,35.6,6,17.3\\r\\n38.2,3.7,13.8,7.6\\r\\n94.2,4.9,8.1,14\\r\\n177,9.3,6.4,14.8\\r\\n283.6,42,66.2,25.5\\r\\n232.1,8.6,8.7,18.4\\r\\n'}"
            ]
          },
          "metadata": {},
          "execution_count": 1
        }
      ],
      "source": [
        "from google.colab import files\n",
        "files.upload()"
      ]
    },
    {
      "cell_type": "code",
      "source": [
        "import pandas as pd\n",
        "import numpy as np\n",
        "from sklearn.model_selection import train_test_split\n",
        "from sklearn.linear_model import LinearRegression\n",
        "from sklearn.tree import DecisionTreeRegressor\n",
        "from sklearn.metrics import mean_squared_error, mean_absolute_error, r2_score\n",
        "import matplotlib.pyplot as plt"
      ],
      "metadata": {
        "id": "z_t0GrsmCWYW"
      },
      "execution_count": 2,
      "outputs": []
    },
    {
      "cell_type": "code",
      "source": [
        "#Load the Data\n",
        "data = pd.read_csv('Sales.csv')"
      ],
      "metadata": {
        "id": "hNt6WVs4CWVC"
      },
      "execution_count": 3,
      "outputs": []
    },
    {
      "cell_type": "code",
      "source": [
        "X = data[['TV', 'Radio', 'Newspaper']]\n",
        "y = data['Sales']\n",
        "X_train, X_test, y_train, y_test = train_test_split(X, y, test_size=0.2, random_state=42)\n"
      ],
      "metadata": {
        "id": "GQ2XCTb2Cgya"
      },
      "execution_count": 4,
      "outputs": []
    },
    {
      "cell_type": "code",
      "source": [
        "linear_model = LinearRegression()\n",
        "linear_model.fit(X_train, y_train)"
      ],
      "metadata": {
        "colab": {
          "base_uri": "https://localhost:8080/",
          "height": 74
        },
        "id": "rru1dVw6CWSM",
        "outputId": "ed7f4f90-220d-4bd5-b6c6-8ced9e0ddb55"
      },
      "execution_count": 5,
      "outputs": [
        {
          "output_type": "execute_result",
          "data": {
            "text/plain": [
              "LinearRegression()"
            ],
            "text/html": [
              "<style>#sk-container-id-1 {color: black;background-color: white;}#sk-container-id-1 pre{padding: 0;}#sk-container-id-1 div.sk-toggleable {background-color: white;}#sk-container-id-1 label.sk-toggleable__label {cursor: pointer;display: block;width: 100%;margin-bottom: 0;padding: 0.3em;box-sizing: border-box;text-align: center;}#sk-container-id-1 label.sk-toggleable__label-arrow:before {content: \"▸\";float: left;margin-right: 0.25em;color: #696969;}#sk-container-id-1 label.sk-toggleable__label-arrow:hover:before {color: black;}#sk-container-id-1 div.sk-estimator:hover label.sk-toggleable__label-arrow:before {color: black;}#sk-container-id-1 div.sk-toggleable__content {max-height: 0;max-width: 0;overflow: hidden;text-align: left;background-color: #f0f8ff;}#sk-container-id-1 div.sk-toggleable__content pre {margin: 0.2em;color: black;border-radius: 0.25em;background-color: #f0f8ff;}#sk-container-id-1 input.sk-toggleable__control:checked~div.sk-toggleable__content {max-height: 200px;max-width: 100%;overflow: auto;}#sk-container-id-1 input.sk-toggleable__control:checked~label.sk-toggleable__label-arrow:before {content: \"▾\";}#sk-container-id-1 div.sk-estimator input.sk-toggleable__control:checked~label.sk-toggleable__label {background-color: #d4ebff;}#sk-container-id-1 div.sk-label input.sk-toggleable__control:checked~label.sk-toggleable__label {background-color: #d4ebff;}#sk-container-id-1 input.sk-hidden--visually {border: 0;clip: rect(1px 1px 1px 1px);clip: rect(1px, 1px, 1px, 1px);height: 1px;margin: -1px;overflow: hidden;padding: 0;position: absolute;width: 1px;}#sk-container-id-1 div.sk-estimator {font-family: monospace;background-color: #f0f8ff;border: 1px dotted black;border-radius: 0.25em;box-sizing: border-box;margin-bottom: 0.5em;}#sk-container-id-1 div.sk-estimator:hover {background-color: #d4ebff;}#sk-container-id-1 div.sk-parallel-item::after {content: \"\";width: 100%;border-bottom: 1px solid gray;flex-grow: 1;}#sk-container-id-1 div.sk-label:hover label.sk-toggleable__label {background-color: #d4ebff;}#sk-container-id-1 div.sk-serial::before {content: \"\";position: absolute;border-left: 1px solid gray;box-sizing: border-box;top: 0;bottom: 0;left: 50%;z-index: 0;}#sk-container-id-1 div.sk-serial {display: flex;flex-direction: column;align-items: center;background-color: white;padding-right: 0.2em;padding-left: 0.2em;position: relative;}#sk-container-id-1 div.sk-item {position: relative;z-index: 1;}#sk-container-id-1 div.sk-parallel {display: flex;align-items: stretch;justify-content: center;background-color: white;position: relative;}#sk-container-id-1 div.sk-item::before, #sk-container-id-1 div.sk-parallel-item::before {content: \"\";position: absolute;border-left: 1px solid gray;box-sizing: border-box;top: 0;bottom: 0;left: 50%;z-index: -1;}#sk-container-id-1 div.sk-parallel-item {display: flex;flex-direction: column;z-index: 1;position: relative;background-color: white;}#sk-container-id-1 div.sk-parallel-item:first-child::after {align-self: flex-end;width: 50%;}#sk-container-id-1 div.sk-parallel-item:last-child::after {align-self: flex-start;width: 50%;}#sk-container-id-1 div.sk-parallel-item:only-child::after {width: 0;}#sk-container-id-1 div.sk-dashed-wrapped {border: 1px dashed gray;margin: 0 0.4em 0.5em 0.4em;box-sizing: border-box;padding-bottom: 0.4em;background-color: white;}#sk-container-id-1 div.sk-label label {font-family: monospace;font-weight: bold;display: inline-block;line-height: 1.2em;}#sk-container-id-1 div.sk-label-container {text-align: center;}#sk-container-id-1 div.sk-container {/* jupyter's `normalize.less` sets `[hidden] { display: none; }` but bootstrap.min.css set `[hidden] { display: none !important; }` so we also need the `!important` here to be able to override the default hidden behavior on the sphinx rendered scikit-learn.org. See: https://github.com/scikit-learn/scikit-learn/issues/21755 */display: inline-block !important;position: relative;}#sk-container-id-1 div.sk-text-repr-fallback {display: none;}</style><div id=\"sk-container-id-1\" class=\"sk-top-container\"><div class=\"sk-text-repr-fallback\"><pre>LinearRegression()</pre><b>In a Jupyter environment, please rerun this cell to show the HTML representation or trust the notebook. <br />On GitHub, the HTML representation is unable to render, please try loading this page with nbviewer.org.</b></div><div class=\"sk-container\" hidden><div class=\"sk-item\"><div class=\"sk-estimator sk-toggleable\"><input class=\"sk-toggleable__control sk-hidden--visually\" id=\"sk-estimator-id-1\" type=\"checkbox\" checked><label for=\"sk-estimator-id-1\" class=\"sk-toggleable__label sk-toggleable__label-arrow\">LinearRegression</label><div class=\"sk-toggleable__content\"><pre>LinearRegression()</pre></div></div></div></div></div>"
            ]
          },
          "metadata": {},
          "execution_count": 5
        }
      ]
    },
    {
      "cell_type": "code",
      "source": [
        "decision_tree_model = DecisionTreeRegressor()\n",
        "decision_tree_model.fit(X_train, y_train)"
      ],
      "metadata": {
        "colab": {
          "base_uri": "https://localhost:8080/",
          "height": 74
        },
        "id": "UZihqCHICWPt",
        "outputId": "aceb0c97-3890-4dca-aaf7-0e967cca16d4"
      },
      "execution_count": 6,
      "outputs": [
        {
          "output_type": "execute_result",
          "data": {
            "text/plain": [
              "DecisionTreeRegressor()"
            ],
            "text/html": [
              "<style>#sk-container-id-2 {color: black;background-color: white;}#sk-container-id-2 pre{padding: 0;}#sk-container-id-2 div.sk-toggleable {background-color: white;}#sk-container-id-2 label.sk-toggleable__label {cursor: pointer;display: block;width: 100%;margin-bottom: 0;padding: 0.3em;box-sizing: border-box;text-align: center;}#sk-container-id-2 label.sk-toggleable__label-arrow:before {content: \"▸\";float: left;margin-right: 0.25em;color: #696969;}#sk-container-id-2 label.sk-toggleable__label-arrow:hover:before {color: black;}#sk-container-id-2 div.sk-estimator:hover label.sk-toggleable__label-arrow:before {color: black;}#sk-container-id-2 div.sk-toggleable__content {max-height: 0;max-width: 0;overflow: hidden;text-align: left;background-color: #f0f8ff;}#sk-container-id-2 div.sk-toggleable__content pre {margin: 0.2em;color: black;border-radius: 0.25em;background-color: #f0f8ff;}#sk-container-id-2 input.sk-toggleable__control:checked~div.sk-toggleable__content {max-height: 200px;max-width: 100%;overflow: auto;}#sk-container-id-2 input.sk-toggleable__control:checked~label.sk-toggleable__label-arrow:before {content: \"▾\";}#sk-container-id-2 div.sk-estimator input.sk-toggleable__control:checked~label.sk-toggleable__label {background-color: #d4ebff;}#sk-container-id-2 div.sk-label input.sk-toggleable__control:checked~label.sk-toggleable__label {background-color: #d4ebff;}#sk-container-id-2 input.sk-hidden--visually {border: 0;clip: rect(1px 1px 1px 1px);clip: rect(1px, 1px, 1px, 1px);height: 1px;margin: -1px;overflow: hidden;padding: 0;position: absolute;width: 1px;}#sk-container-id-2 div.sk-estimator {font-family: monospace;background-color: #f0f8ff;border: 1px dotted black;border-radius: 0.25em;box-sizing: border-box;margin-bottom: 0.5em;}#sk-container-id-2 div.sk-estimator:hover {background-color: #d4ebff;}#sk-container-id-2 div.sk-parallel-item::after {content: \"\";width: 100%;border-bottom: 1px solid gray;flex-grow: 1;}#sk-container-id-2 div.sk-label:hover label.sk-toggleable__label {background-color: #d4ebff;}#sk-container-id-2 div.sk-serial::before {content: \"\";position: absolute;border-left: 1px solid gray;box-sizing: border-box;top: 0;bottom: 0;left: 50%;z-index: 0;}#sk-container-id-2 div.sk-serial {display: flex;flex-direction: column;align-items: center;background-color: white;padding-right: 0.2em;padding-left: 0.2em;position: relative;}#sk-container-id-2 div.sk-item {position: relative;z-index: 1;}#sk-container-id-2 div.sk-parallel {display: flex;align-items: stretch;justify-content: center;background-color: white;position: relative;}#sk-container-id-2 div.sk-item::before, #sk-container-id-2 div.sk-parallel-item::before {content: \"\";position: absolute;border-left: 1px solid gray;box-sizing: border-box;top: 0;bottom: 0;left: 50%;z-index: -1;}#sk-container-id-2 div.sk-parallel-item {display: flex;flex-direction: column;z-index: 1;position: relative;background-color: white;}#sk-container-id-2 div.sk-parallel-item:first-child::after {align-self: flex-end;width: 50%;}#sk-container-id-2 div.sk-parallel-item:last-child::after {align-self: flex-start;width: 50%;}#sk-container-id-2 div.sk-parallel-item:only-child::after {width: 0;}#sk-container-id-2 div.sk-dashed-wrapped {border: 1px dashed gray;margin: 0 0.4em 0.5em 0.4em;box-sizing: border-box;padding-bottom: 0.4em;background-color: white;}#sk-container-id-2 div.sk-label label {font-family: monospace;font-weight: bold;display: inline-block;line-height: 1.2em;}#sk-container-id-2 div.sk-label-container {text-align: center;}#sk-container-id-2 div.sk-container {/* jupyter's `normalize.less` sets `[hidden] { display: none; }` but bootstrap.min.css set `[hidden] { display: none !important; }` so we also need the `!important` here to be able to override the default hidden behavior on the sphinx rendered scikit-learn.org. See: https://github.com/scikit-learn/scikit-learn/issues/21755 */display: inline-block !important;position: relative;}#sk-container-id-2 div.sk-text-repr-fallback {display: none;}</style><div id=\"sk-container-id-2\" class=\"sk-top-container\"><div class=\"sk-text-repr-fallback\"><pre>DecisionTreeRegressor()</pre><b>In a Jupyter environment, please rerun this cell to show the HTML representation or trust the notebook. <br />On GitHub, the HTML representation is unable to render, please try loading this page with nbviewer.org.</b></div><div class=\"sk-container\" hidden><div class=\"sk-item\"><div class=\"sk-estimator sk-toggleable\"><input class=\"sk-toggleable__control sk-hidden--visually\" id=\"sk-estimator-id-2\" type=\"checkbox\" checked><label for=\"sk-estimator-id-2\" class=\"sk-toggleable__label sk-toggleable__label-arrow\">DecisionTreeRegressor</label><div class=\"sk-toggleable__content\"><pre>DecisionTreeRegressor()</pre></div></div></div></div></div>"
            ]
          },
          "metadata": {},
          "execution_count": 6
        }
      ]
    },
    {
      "cell_type": "code",
      "source": [
        "y_pred_linear = linear_model.predict(X_test)\n",
        "y_pred_decision_tree = decision_tree_model.predict(X_test)"
      ],
      "metadata": {
        "id": "V20p8yxFCWM8"
      },
      "execution_count": 7,
      "outputs": []
    },
    {
      "cell_type": "code",
      "source": [
        "mse_linear = mean_squared_error(y_test, y_pred_linear)\n",
        "rmse_linear = np.sqrt(mse_linear)\n",
        "mae_linear = mean_absolute_error(y_test, y_pred_linear)\n",
        "r2_linear = r2_score(y_test, y_pred_linear)"
      ],
      "metadata": {
        "id": "C73BVF8fCWKF"
      },
      "execution_count": 8,
      "outputs": []
    },
    {
      "cell_type": "code",
      "source": [
        "mse_decision_tree = mean_squared_error(y_test, y_pred_decision_tree)\n",
        "rmse_decision_tree = np.sqrt(mse_decision_tree)\n",
        "mae_decision_tree = mean_absolute_error(y_test, y_pred_decision_tree)\n",
        "r2_decision_tree = r2_score(y_test, y_pred_decision_tree)"
      ],
      "metadata": {
        "id": "e0qRqI2GCWHc"
      },
      "execution_count": 9,
      "outputs": []
    },
    {
      "cell_type": "code",
      "source": [
        "print(\"Linear Regression Metrics:\")\n",
        "print(f\"Root Mean Squared Error (RMSE): {rmse_linear}\")\n",
        "print(f\"Mean Absolute Error (MAE): {mae_linear}\")\n",
        "print(f\"R-squared (R2): {r2_linear}\")"
      ],
      "metadata": {
        "colab": {
          "base_uri": "https://localhost:8080/"
        },
        "id": "SwoywV6ZCWEW",
        "outputId": "125992a9-3c94-40ee-b820-7c55e861600c"
      },
      "execution_count": 10,
      "outputs": [
        {
          "output_type": "stream",
          "name": "stdout",
          "text": [
            "Linear Regression Metrics:\n",
            "Root Mean Squared Error (RMSE): 1.7052146229349223\n",
            "Mean Absolute Error (MAE): 1.2748262109549338\n",
            "R-squared (R2): 0.9059011844150826\n"
          ]
        }
      ]
    },
    {
      "cell_type": "code",
      "source": [
        "print(\"\\nDecision Tree Regressor Metrics:\")\n",
        "print(f\"Root Mean Squared Error (RMSE): {rmse_decision_tree}\")\n",
        "print(f\"Mean Absolute Error (MAE): {mae_decision_tree}\")\n",
        "print(f\"R-squared (R2): {r2_decision_tree}\")"
      ],
      "metadata": {
        "colab": {
          "base_uri": "https://localhost:8080/"
        },
        "id": "HJ6jpDVtCWBY",
        "outputId": "5aea9c22-0d29-45ef-be95-4684f34c784b"
      },
      "execution_count": 11,
      "outputs": [
        {
          "output_type": "stream",
          "name": "stdout",
          "text": [
            "\n",
            "Decision Tree Regressor Metrics:\n",
            "Root Mean Squared Error (RMSE): 1.83023222570252\n",
            "Mean Absolute Error (MAE): 1.2225000000000001\n",
            "R-squared (R2): 0.8915977101138794\n"
          ]
        }
      ]
    },
    {
      "cell_type": "code",
      "source": [
        "plt.scatter(X_test['TV'], y_test, label='Actual Sales')\n",
        "plt.scatter(X_test['TV'], y_pred_linear, label='Predicted Sales (Linear)', color='green')\n",
        "plt.scatter(X_test['TV'], y_pred_decision_tree, label='Predicted Sales (Decision Tree)', color='red')\n",
        "plt.xlabel('TV Advertising Spending')\n",
        "plt.ylabel('Sales')\n",
        "plt.legend()\n",
        "plt.title('Sales vs. TV Advertising Spending')"
      ],
      "metadata": {
        "colab": {
          "base_uri": "https://localhost:8080/",
          "height": 489
        },
        "id": "vGSCkg2_CV-T",
        "outputId": "4ef06b80-e70c-464a-ce0e-e1f51e620c61"
      },
      "execution_count": 13,
      "outputs": [
        {
          "output_type": "execute_result",
          "data": {
            "text/plain": [
              "Text(0.5, 1.0, 'Sales vs. TV Advertising Spending')"
            ]
          },
          "metadata": {},
          "execution_count": 13
        },
        {
          "output_type": "display_data",
          "data": {
            "text/plain": [
              "<Figure size 640x480 with 1 Axes>"
            ],
            "image/png": "[encoded data removed]"
          },
          "metadata": {}
        }
      ]
    }
  ]
}